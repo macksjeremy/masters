{
 "cells": [
  {
   "cell_type": "code",
   "execution_count": 1,
   "id": "52bea965",
   "metadata": {},
   "outputs": [],
   "source": [
    "import torch\n",
    "import pandas as pd\n",
    "import os"
   ]
  },
  {
   "cell_type": "code",
   "execution_count": 2,
   "id": "e6fea5a1",
   "metadata": {},
   "outputs": [
    {
     "name": "stdout",
     "output_type": "stream",
     "text": [
      "Requirement already satisfied: clean-text in c:\\users\\608ma\\miniconda3\\envs\\masters\\lib\\site-packages (0.6.0)\n",
      "Requirement already satisfied: emoji<2.0.0,>=1.0.0 in c:\\users\\608ma\\miniconda3\\envs\\masters\\lib\\site-packages (from clean-text) (1.7.0)\n",
      "Requirement already satisfied: ftfy<7.0,>=6.0 in c:\\users\\608ma\\miniconda3\\envs\\masters\\lib\\site-packages (from clean-text) (6.1.1)\n",
      "Requirement already satisfied: wcwidth>=0.2.5 in c:\\users\\608ma\\miniconda3\\envs\\masters\\lib\\site-packages (from ftfy<7.0,>=6.0->clean-text) (0.2.6)\n",
      "Requirement already satisfied: langdetect in c:\\users\\608ma\\miniconda3\\envs\\masters\\lib\\site-packages (1.0.9)\n",
      "Requirement already satisfied: six in c:\\users\\608ma\\miniconda3\\envs\\masters\\lib\\site-packages (from langdetect) (1.16.0)\n"
     ]
    }
   ],
   "source": [
    "!pip install clean-text\n",
    "!pip install langdetect\n",
    "#!pip install validators"
   ]
  },
  {
   "cell_type": "code",
   "execution_count": 3,
   "id": "4a7a183d",
   "metadata": {},
   "outputs": [
    {
     "name": "stderr",
     "output_type": "stream",
     "text": [
      "Since the GPL-licensed package `unidecode` is not installed, using Python's `unicodedata` package which yields worse results.\n"
     ]
    }
   ],
   "source": [
    "from gptzero.model import GPT2PPL\n",
    "from cleantext import clean\n",
    "from langdetect import detect\n",
    "#import validators"
   ]
  },
  {
   "cell_type": "code",
   "execution_count": 4,
   "id": "98c5447f",
   "metadata": {},
   "outputs": [],
   "source": [
    "import re\n",
    "def remove_emojis(data):\n",
    "    emoj = re.compile(\"[\"\n",
    "        u\"\\U0001F600-\\U0001F64F\"  # emoticons\n",
    "        u\"\\U0001F300-\\U0001F5FF\"  # symbols & pictographs\n",
    "        u\"\\U0001F680-\\U0001F6FF\"  # transport & map symbols\n",
    "        u\"\\U0001F1E0-\\U0001F1FF\"  # flags (iOS)\n",
    "        u\"\\U00002500-\\U00002BEF\"  # chinese char\n",
    "        u\"\\U00002702-\\U000027B0\"\n",
    "        u\"\\U00002702-\\U000027B0\"\n",
    "        u\"\\U000024C2-\\U0001F251\"\n",
    "        u\"\\U0001f926-\\U0001f937\"\n",
    "        u\"\\U00010000-\\U0010ffff\"\n",
    "        u\"\\u2640-\\u2642\" \n",
    "        u\"\\u2600-\\u2B55\"\n",
    "        u\"\\u200d\"\n",
    "        u\"\\u23cf\"\n",
    "        u\"\\u23e9\"\n",
    "        u\"\\u231a\"\n",
    "        u\"\\ufe0f\"  # dingbats\n",
    "        u\"\\u3030\"\n",
    "                      \"]+\", re.UNICODE)\n",
    "    return re.sub(emoj, '', data)"
   ]
  },
  {
   "cell_type": "code",
   "execution_count": 5,
   "id": "4769fb06",
   "metadata": {},
   "outputs": [],
   "source": [
    "def isurl(input):   \n",
    "    regex = re.compile(\n",
    "        r'^(?:http|ftp)s?://' # http:// or https://\n",
    "        r'(?:(?:[A-Z0-9](?:[A-Z0-9-]{0,61}[A-Z0-9])?\\.)+(?:[A-Z]{2,6}\\.?|[A-Z0-9-]{2,}\\.?)|' #domain...\n",
    "        r'localhost|' #localhost...\n",
    "        r'\\d{1,3}\\.\\d{1,3}\\.\\d{1,3}\\.\\d{1,3})' # ...or ip\n",
    "        r'(?::\\d+)?' # optional port\n",
    "        r'(?:/?|[/?]\\S+)$', re.IGNORECASE)\n",
    "    return re.match(regex, input) is not None \n",
    "\n",
    "def printline():\n",
    "    print(\"------------------------------------------\")\n",
    "    \n",
    "def infer(sentence):\n",
    "    sentence1 = sentence\n",
    "    sentence = remove_emojis(sentence)\n",
    "    sentence = clean(sentence, no_emoji=True)\n",
    "    if sentence != sentence1:\n",
    "        print(sentence1, sentence)\n",
    "    model = GPT2PPL()\n",
    "    output = model(sentence)\n",
    "    return output[0][\"label\"]\n",
    "\n",
    "def enhanced_detect(input):\n",
    "    printline()\n",
    "    print(input)\n",
    "    printline()\n",
    "    return detect(input)"
   ]
  },
  {
   "cell_type": "code",
   "execution_count": 6,
   "id": "174b94f0",
   "metadata": {},
   "outputs": [],
   "source": [
    "df = pd.read_csv(\"full_frame.csv\", sep='\\t', encoding='utf-8')"
   ]
  },
  {
   "cell_type": "code",
   "execution_count": 7,
   "id": "8d7ec632",
   "metadata": {},
   "outputs": [
    {
     "data": {
      "text/html": [
       "<div>\n",
       "<style scoped>\n",
       "    .dataframe tbody tr th:only-of-type {\n",
       "        vertical-align: middle;\n",
       "    }\n",
       "\n",
       "    .dataframe tbody tr th {\n",
       "        vertical-align: top;\n",
       "    }\n",
       "\n",
       "    .dataframe thead th {\n",
       "        text-align: right;\n",
       "    }\n",
       "</style>\n",
       "<table border=\"1\" class=\"dataframe\">\n",
       "  <thead>\n",
       "    <tr style=\"text-align: right;\">\n",
       "      <th></th>\n",
       "      <th>utterances</th>\n",
       "      <th>human</th>\n",
       "    </tr>\n",
       "  </thead>\n",
       "  <tbody>\n",
       "    <tr>\n",
       "      <th>0</th>\n",
       "      <td>Yeah but that's not the detail I am looking fo...</td>\n",
       "      <td>1</td>\n",
       "    </tr>\n",
       "    <tr>\n",
       "      <th>1</th>\n",
       "      <td>Mais tu veux dire \"on est\", si même si tu voul...</td>\n",
       "      <td>1</td>\n",
       "    </tr>\n",
       "    <tr>\n",
       "      <th>2</th>\n",
       "      <td>U should check out the stuff that Jordan Peter...</td>\n",
       "      <td>0</td>\n",
       "    </tr>\n",
       "    <tr>\n",
       "      <th>3</th>\n",
       "      <td>And here are the rules of the game.\\n\\n&gt;The ob...</td>\n",
       "      <td>1</td>\n",
       "    </tr>\n",
       "    <tr>\n",
       "      <th>4</th>\n",
       "      <td>That's not the point.</td>\n",
       "      <td>1</td>\n",
       "    </tr>\n",
       "  </tbody>\n",
       "</table>\n",
       "</div>"
      ],
      "text/plain": [
       "                                          utterances  human\n",
       "0  Yeah but that's not the detail I am looking fo...      1\n",
       "1  Mais tu veux dire \"on est\", si même si tu voul...      1\n",
       "2  U should check out the stuff that Jordan Peter...      0\n",
       "3  And here are the rules of the game.\\n\\n>The ob...      1\n",
       "4                              That's not the point.      1"
      ]
     },
     "execution_count": 7,
     "metadata": {},
     "output_type": "execute_result"
    }
   ],
   "source": [
    "df.head()"
   ]
  },
  {
   "cell_type": "code",
   "execution_count": null,
   "id": "2141ff58",
   "metadata": {},
   "outputs": [],
   "source": [
    "testsent = \"The fitnessgram pacer test is an aerobic multistage test designed to get progressively more difficult as it continues.\"\n",
    "infer(testsent)\n",
    "df.describe()\n"
   ]
  },
  {
   "cell_type": "code",
   "execution_count": null,
   "id": "61243158",
   "metadata": {},
   "outputs": [],
   "source": [
    "#Clean the Data\n",
    "df = df.dropna(subset=['utterances'])\n",
    "df = df[df.utterances != '']\n",
    "df[\"isurl\"] = df[\"utterances\"].map(isurl)\n",
    "df = df[~df.isurl]\n",
    "df[\"language\"] = df[\"utterances\"].map(enhanced_detect)\n",
    "#df.describe()"
   ]
  },
  {
   "cell_type": "code",
   "execution_count": null,
   "id": "d98f921b",
   "metadata": {},
   "outputs": [],
   "source": [
    "df[\"predictions\"] = df[\"utterances\"].map(infer)"
   ]
  }
 ],
 "metadata": {
  "kernelspec": {
   "display_name": "Python 3 (ipykernel)",
   "language": "python",
   "name": "python3"
  },
  "language_info": {
   "codemirror_mode": {
    "name": "ipython",
    "version": 3
   },
   "file_extension": ".py",
   "mimetype": "text/x-python",
   "name": "python",
   "nbconvert_exporter": "python",
   "pygments_lexer": "ipython3",
   "version": "3.10.8"
  }
 },
 "nbformat": 4,
 "nbformat_minor": 5
}
