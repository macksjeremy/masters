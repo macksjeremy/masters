{
 "cells": [
  {
   "cell_type": "code",
   "execution_count": null,
   "id": "a138d52b",
   "metadata": {},
   "outputs": [],
   "source": [
    "conda install pytorch torchvision torchaudio pytorch-cuda=11.6 -c pytorch -c nvidia -y"
   ]
  },
  {
   "cell_type": "code",
   "execution_count": null,
   "id": "8cf8470e",
   "metadata": {},
   "outputs": [],
   "source": [
    "import pandas as pd\n",
    "import numpy as np\n",
    "import matplotlib.pyplot as plt\n",
    "import os\n",
    "import pytorch"
   ]
  },
  {
   "cell_type": "code",
   "execution_count": null,
   "id": "b3672dff",
   "metadata": {},
   "outputs": [],
   "source": [
    "\n",
    "df_bot = pd.read_csv(\"fullbotdata.csv\")\n",
    "df_human = pd.read_csv(\"fullhumandata.csv\")"
   ]
  }
 ],
 "metadata": {
  "kernelspec": {
   "display_name": "Python 3 (ipykernel)",
   "language": "python",
   "name": "python3"
  },
  "language_info": {
   "codemirror_mode": {
    "name": "ipython",
    "version": 3
   },
   "file_extension": ".py",
   "mimetype": "text/x-python",
   "name": "python",
   "nbconvert_exporter": "python",
   "pygments_lexer": "ipython3",
   "version": "3.10.8"
  }
 },
 "nbformat": 4,
 "nbformat_minor": 5
}
